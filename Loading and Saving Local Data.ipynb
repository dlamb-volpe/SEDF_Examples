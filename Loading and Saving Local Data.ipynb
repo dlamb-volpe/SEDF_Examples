{
 "cells": [
  {
   "cell_type": "code",
   "execution_count": 4,
   "id": "8ccb36e5",
   "metadata": {},
   "outputs": [
    {
     "name": "stdout",
     "output_type": "stream",
     "text": [
      "ArcGIS API for Python Version: 2.0.0\n",
      "Pandas Version: 2.0.0\n"
     ]
    }
   ],
   "source": [
    "import arcgis\n",
    "import pandas as pd\n",
    "print(\"ArcGIS API for Python Version: {}\".format(arcgis.__version__))\n",
    "print(\"Pandas Version: {}\".format(arcgis.__version__))"
   ]
  },
  {
   "cell_type": "markdown",
   "id": "48ed4899",
   "metadata": {},
   "source": [
    "### Paths to file geodatabase"
   ]
  },
  {
   "cell_type": "code",
   "execution_count": 20,
   "id": "72120248",
   "metadata": {},
   "outputs": [],
   "source": [
    "from pathlib import Path\n",
    "\n",
    "fgdb_path = Path(\"C:\\\\working\\\\examples\\\\test.gdb\")\n",
    "table_path = fgdb_path / \"ExampleTable\"\n",
    "point_path = fgdb_path / \"ExamplePoints\"\n",
    "polygon_path = fgdb_path / \"ExPolygon\"\n"
   ]
  },
  {
   "cell_type": "markdown",
   "id": "d4c07382",
   "metadata": {},
   "source": [
    "### Load a spatially enabled dataframe"
   ]
  },
  {
   "cell_type": "code",
   "execution_count": 21,
   "id": "07014793",
   "metadata": {},
   "outputs": [],
   "source": [
    "from arcgis.features import GeoAccessor, GeoSeriesAccessor"
   ]
  },
  {
   "cell_type": "code",
   "execution_count": 22,
   "id": "0cd367ad",
   "metadata": {},
   "outputs": [
    {
     "data": {
      "text/html": [
       "<div>\n",
       "<style scoped>\n",
       "    .dataframe tbody tr th:only-of-type {\n",
       "        vertical-align: middle;\n",
       "    }\n",
       "\n",
       "    .dataframe tbody tr th {\n",
       "        vertical-align: top;\n",
       "    }\n",
       "\n",
       "    .dataframe thead th {\n",
       "        text-align: right;\n",
       "    }\n",
       "</style>\n",
       "<table border=\"1\" class=\"dataframe\">\n",
       "  <thead>\n",
       "    <tr style=\"text-align: right;\">\n",
       "      <th></th>\n",
       "      <th>OBJECTID</th>\n",
       "      <th>POINT_X</th>\n",
       "      <th>POINT_Y</th>\n",
       "      <th>POINT_Z</th>\n",
       "      <th>SHAPE</th>\n",
       "    </tr>\n",
       "  </thead>\n",
       "  <tbody>\n",
       "    <tr>\n",
       "      <th>0</th>\n",
       "      <td>1</td>\n",
       "      <td>-115.213921</td>\n",
       "      <td>41.085810</td>\n",
       "      <td>0.0</td>\n",
       "      <td>{\"x\": -115.21392128199994, \"y\": 41.08581038400...</td>\n",
       "    </tr>\n",
       "    <tr>\n",
       "      <th>1</th>\n",
       "      <td>2</td>\n",
       "      <td>-109.341970</td>\n",
       "      <td>37.891224</td>\n",
       "      <td>0.0</td>\n",
       "      <td>{\"x\": -109.34197033299995, \"y\": 37.89122357300...</td>\n",
       "    </tr>\n",
       "    <tr>\n",
       "      <th>2</th>\n",
       "      <td>3</td>\n",
       "      <td>-104.852836</td>\n",
       "      <td>34.510793</td>\n",
       "      <td>0.0</td>\n",
       "      <td>{\"x\": -104.85283640999995, \"y\": 34.51079322300...</td>\n",
       "    </tr>\n",
       "    <tr>\n",
       "      <th>3</th>\n",
       "      <td>4</td>\n",
       "      <td>-93.382330</td>\n",
       "      <td>35.097935</td>\n",
       "      <td>0.0</td>\n",
       "      <td>{\"x\": -93.38232976699999, \"y\": 35.097935044000...</td>\n",
       "    </tr>\n",
       "    <tr>\n",
       "      <th>4</th>\n",
       "      <td>5</td>\n",
       "      <td>-89.151996</td>\n",
       "      <td>38.963024</td>\n",
       "      <td>0.0</td>\n",
       "      <td>{\"x\": -89.15199606299996, \"y\": 38.963023697000...</td>\n",
       "    </tr>\n",
       "  </tbody>\n",
       "</table>\n",
       "</div>"
      ],
      "text/plain": [
       "   OBJECTID     POINT_X    POINT_Y  POINT_Z  \\\n",
       "0         1 -115.213921  41.085810      0.0   \n",
       "1         2 -109.341970  37.891224      0.0   \n",
       "2         3 -104.852836  34.510793      0.0   \n",
       "3         4  -93.382330  35.097935      0.0   \n",
       "4         5  -89.151996  38.963024      0.0   \n",
       "\n",
       "                                               SHAPE  \n",
       "0  {\"x\": -115.21392128199994, \"y\": 41.08581038400...  \n",
       "1  {\"x\": -109.34197033299995, \"y\": 37.89122357300...  \n",
       "2  {\"x\": -104.85283640999995, \"y\": 34.51079322300...  \n",
       "3  {\"x\": -93.38232976699999, \"y\": 35.097935044000...  \n",
       "4  {\"x\": -89.15199606299996, \"y\": 38.963023697000...  "
      ]
     },
     "execution_count": 22,
     "metadata": {},
     "output_type": "execute_result"
    }
   ],
   "source": [
    "sdf_points = pd.DataFrame.spatial.from_featureclass(point_path)\n",
    "sdf_points.head()"
   ]
  },
  {
   "cell_type": "code",
   "execution_count": 23,
   "id": "ae03e405",
   "metadata": {},
   "outputs": [
    {
     "data": {
      "text/html": [
       "<div>\n",
       "<style scoped>\n",
       "    .dataframe tbody tr th:only-of-type {\n",
       "        vertical-align: middle;\n",
       "    }\n",
       "\n",
       "    .dataframe tbody tr th {\n",
       "        vertical-align: top;\n",
       "    }\n",
       "\n",
       "    .dataframe thead th {\n",
       "        text-align: right;\n",
       "    }\n",
       "</style>\n",
       "<table border=\"1\" class=\"dataframe\">\n",
       "  <thead>\n",
       "    <tr style=\"text-align: right;\">\n",
       "      <th></th>\n",
       "      <th>OBJECTID</th>\n",
       "      <th>POINT_X</th>\n",
       "      <th>POINT_Y</th>\n",
       "      <th>POINT_Z</th>\n",
       "    </tr>\n",
       "  </thead>\n",
       "  <tbody>\n",
       "    <tr>\n",
       "      <th>0</th>\n",
       "      <td>1</td>\n",
       "      <td>-115.213921</td>\n",
       "      <td>41.085810</td>\n",
       "      <td>0.0</td>\n",
       "    </tr>\n",
       "    <tr>\n",
       "      <th>1</th>\n",
       "      <td>2</td>\n",
       "      <td>-109.341970</td>\n",
       "      <td>37.891224</td>\n",
       "      <td>0.0</td>\n",
       "    </tr>\n",
       "    <tr>\n",
       "      <th>2</th>\n",
       "      <td>3</td>\n",
       "      <td>-104.852836</td>\n",
       "      <td>34.510793</td>\n",
       "      <td>0.0</td>\n",
       "    </tr>\n",
       "    <tr>\n",
       "      <th>3</th>\n",
       "      <td>4</td>\n",
       "      <td>-93.382330</td>\n",
       "      <td>35.097935</td>\n",
       "      <td>0.0</td>\n",
       "    </tr>\n",
       "    <tr>\n",
       "      <th>4</th>\n",
       "      <td>5</td>\n",
       "      <td>-89.151996</td>\n",
       "      <td>38.963024</td>\n",
       "      <td>0.0</td>\n",
       "    </tr>\n",
       "  </tbody>\n",
       "</table>\n",
       "</div>"
      ],
      "text/plain": [
       "   OBJECTID     POINT_X    POINT_Y  POINT_Z\n",
       "0         1 -115.213921  41.085810      0.0\n",
       "1         2 -109.341970  37.891224      0.0\n",
       "2         3 -104.852836  34.510793      0.0\n",
       "3         4  -93.382330  35.097935      0.0\n",
       "4         5  -89.151996  38.963024      0.0"
      ]
     },
     "execution_count": 23,
     "metadata": {},
     "output_type": "execute_result"
    }
   ],
   "source": [
    "sdf_tbl = pd.DataFrame.spatial.from_table(table_path)\n",
    "sdf_tbl.head()"
   ]
  },
  {
   "cell_type": "code",
   "execution_count": 24,
   "id": "81b61bec",
   "metadata": {},
   "outputs": [
    {
     "data": {
      "text/html": [
       "<div>\n",
       "<style scoped>\n",
       "    .dataframe tbody tr th:only-of-type {\n",
       "        vertical-align: middle;\n",
       "    }\n",
       "\n",
       "    .dataframe tbody tr th {\n",
       "        vertical-align: top;\n",
       "    }\n",
       "\n",
       "    .dataframe thead th {\n",
       "        text-align: right;\n",
       "    }\n",
       "</style>\n",
       "<table border=\"1\" class=\"dataframe\">\n",
       "  <thead>\n",
       "    <tr style=\"text-align: right;\">\n",
       "      <th></th>\n",
       "      <th>OBJECTID</th>\n",
       "      <th>CENTROID_X</th>\n",
       "      <th>CENTROID_Y</th>\n",
       "      <th>CENTROID_Z</th>\n",
       "      <th>INSIDE_X</th>\n",
       "      <th>INSIDE_Y</th>\n",
       "      <th>INSIDE_Z</th>\n",
       "      <th>SHAPE</th>\n",
       "    </tr>\n",
       "  </thead>\n",
       "  <tbody>\n",
       "    <tr>\n",
       "      <th>0</th>\n",
       "      <td>1</td>\n",
       "      <td>-120.031920</td>\n",
       "      <td>42.753741</td>\n",
       "      <td>None</td>\n",
       "      <td>-120.031920</td>\n",
       "      <td>42.753741</td>\n",
       "      <td>0.0</td>\n",
       "      <td>{\"hasZ\": true, \"rings\": [[[-121.49579655499997...</td>\n",
       "    </tr>\n",
       "    <tr>\n",
       "      <th>1</th>\n",
       "      <td>2</td>\n",
       "      <td>-108.767998</td>\n",
       "      <td>35.857090</td>\n",
       "      <td>None</td>\n",
       "      <td>-108.767998</td>\n",
       "      <td>35.857090</td>\n",
       "      <td>0.0</td>\n",
       "      <td>{\"hasZ\": true, \"rings\": [[[-102.68135071499995...</td>\n",
       "    </tr>\n",
       "  </tbody>\n",
       "</table>\n",
       "</div>"
      ],
      "text/plain": [
       "   OBJECTID  CENTROID_X  CENTROID_Y CENTROID_Z    INSIDE_X   INSIDE_Y  \\\n",
       "0         1 -120.031920   42.753741       None -120.031920  42.753741   \n",
       "1         2 -108.767998   35.857090       None -108.767998  35.857090   \n",
       "\n",
       "   INSIDE_Z                                              SHAPE  \n",
       "0       0.0  {\"hasZ\": true, \"rings\": [[[-121.49579655499997...  \n",
       "1       0.0  {\"hasZ\": true, \"rings\": [[[-102.68135071499995...  "
      ]
     },
     "execution_count": 24,
     "metadata": {},
     "output_type": "execute_result"
    }
   ],
   "source": [
    "sdf_polygon = pd.DataFrame.spatial.from_featureclass(polygon_path)\n",
    "sdf_polygon.head()"
   ]
  },
  {
   "cell_type": "markdown",
   "id": "2125e201",
   "metadata": {},
   "source": [
    "### Load from a data frame and set geometry"
   ]
  },
  {
   "cell_type": "code",
   "execution_count": 25,
   "id": "3a759cb9",
   "metadata": {},
   "outputs": [],
   "source": [
    "from arcgis.geometry import Point, Polyline, Polygon, Geometry"
   ]
  },
  {
   "cell_type": "code",
   "execution_count": 29,
   "id": "68cb1a42",
   "metadata": {},
   "outputs": [
    {
     "data": {
      "text/html": [
       "<div>\n",
       "<style scoped>\n",
       "    .dataframe tbody tr th:only-of-type {\n",
       "        vertical-align: middle;\n",
       "    }\n",
       "\n",
       "    .dataframe tbody tr th {\n",
       "        vertical-align: top;\n",
       "    }\n",
       "\n",
       "    .dataframe thead th {\n",
       "        text-align: right;\n",
       "    }\n",
       "</style>\n",
       "<table border=\"1\" class=\"dataframe\">\n",
       "  <thead>\n",
       "    <tr style=\"text-align: right;\">\n",
       "      <th></th>\n",
       "      <th>OBJECTID</th>\n",
       "      <th>POINT_X</th>\n",
       "      <th>POINT_Y</th>\n",
       "      <th>POINT_Z</th>\n",
       "      <th>SHAPE</th>\n",
       "    </tr>\n",
       "  </thead>\n",
       "  <tbody>\n",
       "    <tr>\n",
       "      <th>0</th>\n",
       "      <td>1</td>\n",
       "      <td>-115.213921</td>\n",
       "      <td>41.085810</td>\n",
       "      <td>0.0</td>\n",
       "      <td>{'x': -115.21392128199994, 'y': 41.08581038400...</td>\n",
       "    </tr>\n",
       "    <tr>\n",
       "      <th>1</th>\n",
       "      <td>2</td>\n",
       "      <td>-109.341970</td>\n",
       "      <td>37.891224</td>\n",
       "      <td>0.0</td>\n",
       "      <td>{'x': -109.34197033299995, 'y': 37.89122357300...</td>\n",
       "    </tr>\n",
       "    <tr>\n",
       "      <th>2</th>\n",
       "      <td>3</td>\n",
       "      <td>-104.852836</td>\n",
       "      <td>34.510793</td>\n",
       "      <td>0.0</td>\n",
       "      <td>{'x': -104.85283640999995, 'y': 34.51079322300...</td>\n",
       "    </tr>\n",
       "    <tr>\n",
       "      <th>3</th>\n",
       "      <td>4</td>\n",
       "      <td>-93.382330</td>\n",
       "      <td>35.097935</td>\n",
       "      <td>0.0</td>\n",
       "      <td>{'x': -93.38232976699999, 'y': 35.097935044000...</td>\n",
       "    </tr>\n",
       "    <tr>\n",
       "      <th>4</th>\n",
       "      <td>5</td>\n",
       "      <td>-89.151996</td>\n",
       "      <td>38.963024</td>\n",
       "      <td>0.0</td>\n",
       "      <td>{'x': -89.15199606299996, 'y': 38.963023697000...</td>\n",
       "    </tr>\n",
       "  </tbody>\n",
       "</table>\n",
       "</div>"
      ],
      "text/plain": [
       "   OBJECTID     POINT_X    POINT_Y  POINT_Z  \\\n",
       "0         1 -115.213921  41.085810      0.0   \n",
       "1         2 -109.341970  37.891224      0.0   \n",
       "2         3 -104.852836  34.510793      0.0   \n",
       "3         4  -93.382330  35.097935      0.0   \n",
       "4         5  -89.151996  38.963024      0.0   \n",
       "\n",
       "                                               SHAPE  \n",
       "0  {'x': -115.21392128199994, 'y': 41.08581038400...  \n",
       "1  {'x': -109.34197033299995, 'y': 37.89122357300...  \n",
       "2  {'x': -104.85283640999995, 'y': 34.51079322300...  \n",
       "3  {'x': -93.38232976699999, 'y': 35.097935044000...  \n",
       "4  {'x': -89.15199606299996, 'y': 38.963023697000...  "
      ]
     },
     "execution_count": 29,
     "metadata": {},
     "output_type": "execute_result"
    }
   ],
   "source": [
    "\n",
    "def create_point(x_long,y_lat,epsg=4326):\n",
    "    return Point({\"x\":x_long,\"y\":y_lat,\"spatialReference\":{\"wkid\":epsg}})\n",
    "\n",
    "#Need to call the geometry column SHAPE with version 2.0 of the API, bug reported\n",
    "sdf_tbl[\"SHAPE\"] = sdf_tbl[[\"POINT_X\",\"POINT_Y\"]].apply(lambda row:create_point(row[\"POINT_X\"],row[\"POINT_Y\"]),axis=1)\n",
    "sdf_tbl.head()"
   ]
  },
  {
   "cell_type": "code",
   "execution_count": 30,
   "id": "b62568f9",
   "metadata": {},
   "outputs": [],
   "source": [
    "sdf_tblpnts = pd.DataFrame.spatial.from_df(sdf_tbl,geometry_column=\"SHAPE\")"
   ]
  },
  {
   "cell_type": "markdown",
   "id": "2c7692db",
   "metadata": {},
   "source": [
    "### Plotting on Map"
   ]
  },
  {
   "cell_type": "code",
   "execution_count": 32,
   "id": "e7ae4e1a",
   "metadata": {},
   "outputs": [
    {
     "data": {
      "application/vnd.jupyter.widget-view+json": {
       "model_id": "9ec6f8819cfc4ad7b12b9f0376b01d4b",
       "version_major": 2,
       "version_minor": 0
      },
      "text/plain": [
       "MapView(layout=Layout(height='400px', width='100%'))"
      ]
     },
     "metadata": {},
     "output_type": "display_data"
    },
    {
     "data": {
      "text/html": [
       "<div class=\"map-static-img-preview-84d5c4cd-0e08-42f8-b0cc-8aa41ebc3ddb\"><img src=\"\"></img></div>"
      ],
      "text/plain": [
       "<IPython.core.display.HTML object>"
      ]
     },
     "metadata": {},
     "output_type": "display_data"
    },
    {
     "data": {
      "text/html": [
       "<div class=\"map-html-embed-preview-84d5c4cd-0e08-42f8-b0cc-8aa41ebc3ddb\"></div>"
      ],
      "text/plain": [
       "<IPython.core.display.HTML object>"
      ]
     },
     "metadata": {},
     "output_type": "display_data"
    }
   ],
   "source": [
    "from arcgis import GIS\n",
    "gis = GIS()\n",
    "mp = gis.map(\"United States\")\n",
    "mp"
   ]
  },
  {
   "cell_type": "code",
   "execution_count": 33,
   "id": "cce31ddb",
   "metadata": {},
   "outputs": [
    {
     "data": {
      "text/plain": [
       "True"
      ]
     },
     "execution_count": 33,
     "metadata": {},
     "output_type": "execute_result"
    }
   ],
   "source": [
    "sdf_tblpnts.spatial.plot(mp)"
   ]
  },
  {
   "cell_type": "markdown",
   "id": "dfaeb74a",
   "metadata": {},
   "source": [
    "### Save to local file geodatabase"
   ]
  },
  {
   "cell_type": "code",
   "execution_count": 31,
   "id": "72400479",
   "metadata": {},
   "outputs": [
    {
     "data": {
      "text/plain": [
       "'C:\\\\working\\\\examples\\\\test.gdb\\\\ExampleTablePoints'"
      ]
     },
     "execution_count": 31,
     "metadata": {},
     "output_type": "execute_result"
    }
   ],
   "source": [
    "out_path = fgdb_path / \"ExampleTablePoints\"\n",
    "sdf_tblpnts.spatial.to_featureclass(out_path)"
   ]
  },
  {
   "cell_type": "code",
   "execution_count": null,
   "id": "ca421a2b",
   "metadata": {},
   "outputs": [],
   "source": []
  }
 ],
 "metadata": {
  "kernelspec": {
   "display_name": "Python 3",
   "language": "python",
   "name": "python3"
  },
  "language_info": {
   "codemirror_mode": {
    "name": "ipython",
    "version": 3
   },
   "file_extension": ".py",
   "mimetype": "text/x-python",
   "name": "python",
   "nbconvert_exporter": "python",
   "pygments_lexer": "ipython3",
   "version": "3.7.11"
  }
 },
 "nbformat": 4,
 "nbformat_minor": 5
}
